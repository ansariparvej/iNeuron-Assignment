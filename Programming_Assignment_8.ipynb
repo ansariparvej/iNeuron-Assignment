{
  "cells": [
    {
      "cell_type": "markdown",
      "metadata": {
        "id": "view-in-github",
        "colab_type": "text"
      },
      "source": [
        "<a href=\"https://colab.research.google.com/github/nabina03/iNeuron-Assignment/blob/main/Programming_Assignment_8.ipynb\" target=\"_parent\"><img src=\"https://colab.research.google.com/assets/colab-badge.svg\" alt=\"Open In Colab\"/></a>"
      ]
    },
    {
      "cell_type": "markdown",
      "id": "9b304197",
      "metadata": {
        "id": "9b304197"
      },
      "source": [
        "# Python Basic Programming Assignment 8"
      ]
    },
    {
      "cell_type": "markdown",
      "id": "22789ae6",
      "metadata": {
        "id": "22789ae6"
      },
      "source": [
        "### 1. Write a Python Program to Add Two Matrices?"
      ]
    },
    {
      "cell_type": "code",
      "source": [
        "\n",
        "\n",
        "X = [[12,7,3],\n",
        "    [4 ,5,6],\n",
        "    [7 ,8,9]]\n",
        "\n",
        "Y = [[5,8,1],\n",
        "    [6,7,3],\n",
        "    [4,5,9]]\n",
        "\n",
        "result = [[0,0,0],\n",
        "         [0,0,0],\n",
        "         [0,0,0]]\n",
        "\n",
        "\n",
        "for i in range(len(X)):\n",
        "   \n",
        "   for j in range(len(X[0])):\n",
        "       result[i][j] = X[i][j] + Y[i][j]\n",
        "\n",
        "for r in result:\n",
        "   print(r)\n",
        "\n"
      ],
      "metadata": {
        "id": "ioBlGLMVS_CC",
        "outputId": "0edf22dd-cb30-4ef0-9d4d-78f176eb72f2",
        "colab": {
          "base_uri": "https://localhost:8080/"
        }
      },
      "id": "ioBlGLMVS_CC",
      "execution_count": 6,
      "outputs": [
        {
          "output_type": "stream",
          "name": "stdout",
          "text": [
            "[17, 15, 4]\n",
            "[10, 12, 9]\n",
            "[11, 13, 18]\n"
          ]
        }
      ]
    },
    {
      "cell_type": "markdown",
      "id": "044ceda6",
      "metadata": {
        "id": "044ceda6"
      },
      "source": [
        "### 2. Write a Python Program to Multiply Two Matrices?"
      ]
    },
    {
      "cell_type": "code",
      "source": [
        "A=[[1,2,3],[2,3,4],[4,5,6]]\n",
        "B=[[2,4,3],[1,3,4],[4,2,6]]\n",
        "r=[[0,0,0],[0,0,0],[0,0,0]]\n",
        "N=len(A)\n",
        "M=len(A[0])\n",
        "for i in range(N):\n",
        "  for j in range(M):\n",
        "    r[i][j]=A[i][j]*B[i][j]\n",
        "for res in r:\n",
        "  print(res)\n",
        "                    \n",
        "        \n",
        "        "
      ],
      "metadata": {
        "id": "1M3tYvL1iCr_",
        "outputId": "1749ab00-c808-47d8-82b4-373a4c625360",
        "colab": {
          "base_uri": "https://localhost:8080/"
        }
      },
      "id": "1M3tYvL1iCr_",
      "execution_count": 7,
      "outputs": [
        {
          "output_type": "stream",
          "name": "stdout",
          "text": [
            "[2, 8, 9]\n",
            "[2, 9, 16]\n",
            "[16, 10, 36]\n"
          ]
        }
      ]
    },
    {
      "cell_type": "markdown",
      "id": "5f688e46",
      "metadata": {
        "id": "5f688e46"
      },
      "source": [
        "### 3. Write a Python Program to Transpose a Matrix?"
      ]
    },
    {
      "cell_type": "code",
      "source": [
        "\n",
        "\n",
        "X = [[12,7],\n",
        "    [4 ,5],\n",
        "    [3 ,8]]\n",
        "\n",
        "result = [[0,0,0],\n",
        "         [0,0,0]]\n",
        "\n",
        "\n",
        "for i in range(len(X)):\n",
        "  \n",
        "   for j in range(len(X[0])):\n",
        "       result[j][i] = X[i][j]\n",
        "\n",
        "for r in result:\n",
        "   print(r)\n"
      ],
      "metadata": {
        "id": "jZu8_MsNA40I",
        "outputId": "2f92831d-bcd8-46d3-d3ba-ee9744ba95c9",
        "colab": {
          "base_uri": "https://localhost:8080/"
        }
      },
      "id": "jZu8_MsNA40I",
      "execution_count": 8,
      "outputs": [
        {
          "output_type": "stream",
          "name": "stdout",
          "text": [
            "[12, 4, 3]\n",
            "[7, 5, 8]\n"
          ]
        }
      ]
    },
    {
      "cell_type": "markdown",
      "id": "b2849025",
      "metadata": {
        "id": "b2849025"
      },
      "source": [
        "\n",
        "### 4. Write a Python Program to Sort Words in Alphabetic Order?\n"
      ]
    },
    {
      "cell_type": "code",
      "source": [
        "my_str = input(\"Enter a string: \")  \n",
        " \n",
        "words = my_str.split()  \n",
        "\n",
        "words.sort()  \n",
        "  \n",
        "for word in words:  \n",
        "   print(word)  "
      ],
      "metadata": {
        "id": "i6_BD762Egem",
        "outputId": "cf8d3bd0-4847-4e0e-8d15-30fc31f6cdb7",
        "colab": {
          "base_uri": "https://localhost:8080/"
        }
      },
      "id": "i6_BD762Egem",
      "execution_count": 9,
      "outputs": [
        {
          "output_type": "stream",
          "name": "stdout",
          "text": [
            "Enter a string: I am Nabina\n",
            "I\n",
            "Nabina\n",
            "am\n"
          ]
        }
      ]
    },
    {
      "cell_type": "markdown",
      "id": "48ac7b24",
      "metadata": {
        "id": "48ac7b24"
      },
      "source": [
        "### 5. Write a Python Program to Remove Punctuation From a String?"
      ]
    },
    {
      "cell_type": "code",
      "source": [
        "\n",
        "punctuations = '''!()-[]{};:'\"\\,<>./?@#$%^&*_~'''\n",
        "\n",
        "my_str = \"Hello!!!, he said ---and went\"\n",
        "\n",
        "\n",
        "no_punct = \"\"\n",
        "for char in my_str:\n",
        "   if char not in punctuations:\n",
        "       no_punct = no_punct + char\n",
        "\n",
        "\n",
        "print(no_punct)\n"
      ],
      "metadata": {
        "id": "I08wZ-_xFoW_",
        "outputId": "13f867ce-ac27-442e-d880-e4939813a77b",
        "colab": {
          "base_uri": "https://localhost:8080/"
        }
      },
      "id": "I08wZ-_xFoW_",
      "execution_count": 12,
      "outputs": [
        {
          "output_type": "stream",
          "name": "stdout",
          "text": [
            "Hello he said and went\n"
          ]
        }
      ]
    }
  ],
  "metadata": {
    "kernelspec": {
      "display_name": "Python 3 (ipykernel)",
      "language": "python",
      "name": "python3"
    },
    "language_info": {
      "codemirror_mode": {
        "name": "ipython",
        "version": 3
      },
      "file_extension": ".py",
      "mimetype": "text/x-python",
      "name": "python",
      "nbconvert_exporter": "python",
      "pygments_lexer": "ipython3",
      "version": "3.9.12"
    },
    "colab": {
      "provenance": [],
      "include_colab_link": true
    }
  },
  "nbformat": 4,
  "nbformat_minor": 5
}