{
  "cells": [
    {
      "cell_type": "markdown",
      "metadata": {
        "id": "view-in-github",
        "colab_type": "text"
      },
      "source": [
        "<a href=\"https://colab.research.google.com/github/nabina03/iNeuron-Assignment/blob/main/Programming_Assignment_9.ipynb\" target=\"_parent\"><img src=\"https://colab.research.google.com/assets/colab-badge.svg\" alt=\"Open In Colab\"/></a>"
      ]
    },
    {
      "cell_type": "markdown",
      "id": "47b9bb99",
      "metadata": {
        "id": "47b9bb99"
      },
      "source": [
        "## Programming Assignment_9\n",
        "----------------"
      ]
    },
    {
      "cell_type": "markdown",
      "id": "c725f7a9",
      "metadata": {
        "id": "c725f7a9"
      },
      "source": [
        "### 1. Write a Python program to check if the given number is a Disarium Number?"
      ]
    },
    {
      "cell_type": "code",
      "source": [
        "# Python program to check whether a number is Disarium\n",
        "# or not\n",
        "import math\n",
        "\n",
        "# Method to check whether a number is disarium or not\n",
        "def check(n) :\n",
        "\n",
        "\t# Count digits in n.\n",
        "\tcount_digits = len(str(n))\n",
        "\t\n",
        "\t# Compute sum of terms like digit multiplied by\n",
        "\t# power of position\n",
        "\tsum = 0 # Initialize sum of terms\n",
        "\tx = n\n",
        "\twhile (x!=0) :\n",
        "\n",
        "\t\t# Get the rightmost digit\n",
        "\t\tr = x % 10\n",
        "\t\t\n",
        "\t\t# Sum the digits by powering according to\n",
        "\t\t# the positions\n",
        "\t\tsum = (int) (sum + math.pow(r, count_digits))\n",
        "\t\tcount_digits = count_digits - 1\n",
        "\t\tx = x//10\n",
        "\t\t\n",
        "\t# If sum is same as number, then number is\n",
        "\tif sum == n :\n",
        "\t\treturn 1\n",
        "\telse :\n",
        "\t\treturn 0\n",
        "\t\n",
        "# Driver method\n",
        "n = 135\n",
        "if (check(n) == 1) :\n",
        "\tprint (\"Disarium Number\")\n",
        "else :\n",
        "\tprint (\"Not a Disarium Number\")\n",
        "\n",
        "# This code is contributed by Nikita Tiwari.\n"
      ],
      "metadata": {
        "id": "LDE-MT-jkOjP",
        "outputId": "9eb3468c-48d0-44d3-9a69-521b9c9b0ab9",
        "colab": {
          "base_uri": "https://localhost:8080/"
        }
      },
      "id": "LDE-MT-jkOjP",
      "execution_count": 1,
      "outputs": [
        {
          "output_type": "stream",
          "name": "stdout",
          "text": [
            "Disarium Number\n"
          ]
        }
      ]
    },
    {
      "cell_type": "markdown",
      "id": "f0064401",
      "metadata": {
        "id": "f0064401"
      },
      "source": [
        "### 2. Write a Python program to print all disarium numbers between 1 to 100?"
      ]
    },
    {
      "cell_type": "code",
      "source": [
        "# Python Program to Print Disarium Numbers from 1 to N\n",
        "import math\n",
        "\n",
        "def digitsCount(Number):\n",
        "    length = 0\n",
        "    while Number != 0:\n",
        "        length = length + 1\n",
        "        Number = Number // 10\n",
        "    return length\n",
        "\n",
        "def digitsSum(Number):\n",
        "    Sum = 0\n",
        "    rem = 0\n",
        "    length = digitsCount(Number)\n",
        "    while Number > 0:\n",
        "        rem = Number % 10\n",
        "        Sum = Sum + math.pow(rem, length)\n",
        "        Number = Number // 10\n",
        "        length = length - 1\n",
        "    return Sum\n",
        "\n",
        "\n",
        "minDis = int(input(\"Enter the Minimum Disarium Number = \"))\n",
        "maxDis = int(input(\"Enter the Maximum Disarium Number = \"))\n",
        "\n",
        "print(\"\\nThe List of Disarium Numbers from {0} and {1}\".format(minDis, maxDis)) \n",
        "for i in range(minDis, maxDis):\n",
        "    Sum = digitsSum(i)\n",
        "\n",
        "    if Sum == i:\n",
        "        print(i, end = \"   \")"
      ],
      "metadata": {
        "id": "q0KeZ5MCrMdU",
        "outputId": "5586a711-5195-4b98-90e1-1806e55325d9",
        "colab": {
          "base_uri": "https://localhost:8080/"
        }
      },
      "id": "q0KeZ5MCrMdU",
      "execution_count": 2,
      "outputs": [
        {
          "output_type": "stream",
          "name": "stdout",
          "text": [
            "Enter the Minimum Disarium Number = 122\n",
            "Enter the Maximum Disarium Number = 678\n",
            "\n",
            "The List of Disarium Numbers from 122 and 678\n",
            "135   175   518   598   "
          ]
        }
      ]
    },
    {
      "cell_type": "markdown",
      "id": "31df1e4a",
      "metadata": {
        "id": "31df1e4a"
      },
      "source": [
        "### 3. Write a Python program to check if the given number is Happy Number?"
      ]
    },
    {
      "cell_type": "code",
      "source": [
        "def isHappy(n):    \n",
        "    r = s = 0;    \n",
        "    while(n > 0):    \n",
        "        r = n%10    \n",
        "        s += r**2  \n",
        "        n //= 10    \n",
        "    return s  \n",
        "        \n",
        "n = int(input())    \n",
        "res = n;    \n",
        "     \n",
        "while(res != 1 and res != 4):    \n",
        "    res = isHappy(res)    \n",
        "     \n",
        "if(res == 1):    \n",
        "    print(\"happy number\")\n",
        "elif(res == 4):    \n",
        "    print(\"not a happy number\")  "
      ],
      "metadata": {
        "id": "wfgyrCYor3U7",
        "outputId": "9bea62de-5bfa-454d-b33b-bf0342778d14",
        "colab": {
          "base_uri": "https://localhost:8080/"
        }
      },
      "id": "wfgyrCYor3U7",
      "execution_count": 3,
      "outputs": [
        {
          "output_type": "stream",
          "name": "stdout",
          "text": [
            "12\n",
            "not a happy number\n"
          ]
        }
      ]
    },
    {
      "cell_type": "markdown",
      "id": "51b265e3",
      "metadata": {
        "id": "51b265e3"
      },
      "source": [
        "### 4. Write a Python program to print all happy numbers between 1 and 100?"
      ]
    },
    {
      "cell_type": "code",
      "source": [
        "def happy_numbers(n):\n",
        "    past = set()\t\t\t\n",
        "    while n != 1:\n",
        "        n = sum(int(i)**2 for i in str(n))\n",
        "        if n in past:\n",
        "            return False\n",
        "        past.add(n)\n",
        "    return True\n",
        "print([x for x in range(500) if happy_numbers(x)][:10])\n"
      ],
      "metadata": {
        "id": "qc02TJEnsEmX",
        "outputId": "30cec739-a9fb-4dcd-945d-253365193c21",
        "colab": {
          "base_uri": "https://localhost:8080/"
        }
      },
      "id": "qc02TJEnsEmX",
      "execution_count": 4,
      "outputs": [
        {
          "output_type": "stream",
          "name": "stdout",
          "text": [
            "[1, 7, 10, 13, 19, 23, 28, 31, 32, 44]\n"
          ]
        }
      ]
    },
    {
      "cell_type": "markdown",
      "id": "6a190ee0",
      "metadata": {
        "id": "6a190ee0"
      },
      "source": [
        "### 5. Write a Python program to determine whether the given number is a Harshad Number?"
      ]
    },
    {
      "cell_type": "code",
      "source": [
        "# Python program to check\n",
        "# if a number is Harshad\n",
        "# Number or not.\n",
        "\n",
        "def checkHarshad( n ) :\n",
        "\tsum = 0\n",
        "\ttemp = n\n",
        "\twhile temp > 0 :\n",
        "\t\tsum = sum + temp % 10\n",
        "\t\ttemp = temp // 10\n",
        "\t# Return true if sum of\n",
        "\t# digits is multiple of n\n",
        "\treturn n % sum == 0\n",
        "\n",
        "# Driver Code\n",
        "if(checkHarshad(12)) : print(\"Yes\")\n",
        "else : print (\"No\")\n",
        "\n",
        "if (checkHarshad(15)) : print(\"Yes\")\n",
        "else : print (\"No\")\n",
        "\t\n",
        "# This code is contributed\n",
        "# by Nikita Tiwari\n"
      ],
      "metadata": {
        "id": "9BtPIm5QshdK",
        "outputId": "568cf17c-7897-4639-f202-bf022062e595",
        "colab": {
          "base_uri": "https://localhost:8080/"
        }
      },
      "id": "9BtPIm5QshdK",
      "execution_count": 5,
      "outputs": [
        {
          "output_type": "stream",
          "name": "stdout",
          "text": [
            "Yes\n",
            "No\n"
          ]
        }
      ]
    },
    {
      "cell_type": "markdown",
      "id": "7a7ea92e",
      "metadata": {
        "id": "7a7ea92e"
      },
      "source": [
        "### 6. Write a Python program to print all pronic numbers between 1 and 100?"
      ]
    },
    {
      "cell_type": "code",
      "source": [
        "# Python program to check\n",
        "# and print Pronic Numbers\n",
        "# upto 200\n",
        "import math\n",
        "\n",
        "# function to check\n",
        "# Pronic Number\n",
        "def checkPronic (x) :\n",
        "\n",
        "\ti = 0\n",
        "\twhile ( i <= (int)(math.sqrt(x)) ) :\n",
        "\t\t\n",
        "\t\t# Checking Pronic Number\n",
        "\t\t# by multiplying consecutive\n",
        "\t\t# numbers\n",
        "\t\tif ( x == i * (i + 1)) :\n",
        "\t\t\treturn True\n",
        "\t\ti = i + 1\n",
        "\n",
        "\treturn False\n",
        "\n",
        "# Driver Code\n",
        "\n",
        "# Printing Pronic\n",
        "# Numbers upto 200\n",
        "i = 0\n",
        "while (i <= 200 ) :\n",
        "\tif checkPronic(i) :\n",
        "\t\tprint(i,end=\" \")\n",
        "\ti = i + 1\n",
        "\n",
        "# This code is contributed\n",
        "# by Nikita Tiwari.\n"
      ],
      "metadata": {
        "id": "UXa2lF4es2rg",
        "outputId": "695db3eb-89dd-4cf6-a119-05397280ad85",
        "colab": {
          "base_uri": "https://localhost:8080/"
        }
      },
      "id": "UXa2lF4es2rg",
      "execution_count": 6,
      "outputs": [
        {
          "output_type": "stream",
          "name": "stdout",
          "text": [
            "0 2 6 12 20 30 42 56 72 90 110 132 156 182 "
          ]
        }
      ]
    }
  ],
  "metadata": {
    "kernelspec": {
      "display_name": "Python 3 (ipykernel)",
      "language": "python",
      "name": "python3"
    },
    "language_info": {
      "codemirror_mode": {
        "name": "ipython",
        "version": 3
      },
      "file_extension": ".py",
      "mimetype": "text/x-python",
      "name": "python",
      "nbconvert_exporter": "python",
      "pygments_lexer": "ipython3",
      "version": "3.9.12"
    },
    "colab": {
      "provenance": [],
      "include_colab_link": true
    }
  },
  "nbformat": 4,
  "nbformat_minor": 5
}