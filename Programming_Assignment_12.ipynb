{
  "cells": [
    {
      "cell_type": "markdown",
      "metadata": {
        "id": "view-in-github",
        "colab_type": "text"
      },
      "source": [
        "<a href=\"https://colab.research.google.com/github/nabina03/iNeuron-Assignment/blob/main/Programming_Assignment_12.ipynb\" target=\"_parent\"><img src=\"https://colab.research.google.com/assets/colab-badge.svg\" alt=\"Open In Colab\"/></a>"
      ]
    },
    {
      "cell_type": "markdown",
      "id": "b7231b20",
      "metadata": {
        "id": "b7231b20"
      },
      "source": [
        "# Python Basic Programming Assignment 12\n",
        "-------------"
      ]
    },
    {
      "cell_type": "markdown",
      "id": "d2ec324d",
      "metadata": {
        "id": "d2ec324d"
      },
      "source": [
        "### 1. Write a Python program to Extract Unique values dictionary values?"
      ]
    },
    {
      "cell_type": "code",
      "source": [
        "test_dict = {'gfg': [5, 6, 7, 8],\n",
        "             'is': [10, 11, 7, 5],\n",
        "             'best': [6, 12, 10, 8],\n",
        "             'for': [1, 2, 5]}\n",
        "res = list(sorted({ele for val in test_dict.values() for ele in val}))\n",
        "print(res)\n"
      ],
      "metadata": {
        "id": "YjBLdAguVYNz",
        "outputId": "a7258340-ef4d-493a-db6b-defebc80679b",
        "colab": {
          "base_uri": "https://localhost:8080/"
        }
      },
      "id": "YjBLdAguVYNz",
      "execution_count": 1,
      "outputs": [
        {
          "output_type": "stream",
          "name": "stdout",
          "text": [
            "[1, 2, 5, 6, 7, 8, 10, 11, 12]\n"
          ]
        }
      ]
    },
    {
      "cell_type": "markdown",
      "id": "203bcbc3",
      "metadata": {
        "id": "203bcbc3"
      },
      "source": [
        "### 2. Write a Python program to find the sum of all items in a dictionary?"
      ]
    },
    {
      "cell_type": "code",
      "source": [
        "test_dict = {1: 12,\n",
        "             2: 11,\n",
        "             3: 9,\n",
        "             4: 8}\n",
        "list = []\n",
        "for i in test_dict:\n",
        "    list.append(test_dict[i])\n",
        "print(list)\n",
        "c=0\n",
        "for p in list:\n",
        "    c=c+p\n",
        "print(c)\n",
        " "
      ],
      "metadata": {
        "id": "J1N_UmC6YBSG",
        "outputId": "c550e3ab-48e8-4540-c9ce-3e7b944bccb5",
        "colab": {
          "base_uri": "https://localhost:8080/"
        }
      },
      "id": "J1N_UmC6YBSG",
      "execution_count": 8,
      "outputs": [
        {
          "output_type": "stream",
          "name": "stdout",
          "text": [
            "[12, 11, 9, 8]\n",
            "40\n"
          ]
        }
      ]
    },
    {
      "cell_type": "markdown",
      "id": "edfbc682",
      "metadata": {
        "id": "edfbc682"
      },
      "source": [
        "### 3. Write a Python program to Merging two Dictionaries?"
      ]
    },
    {
      "cell_type": "code",
      "source": [
        "dict1 = {'a': 10, 'b': 8}\n",
        "dict2 = {'d': 6, 'c': 4}\n",
        "print(dict1.update(dict2))\n",
        "print(dict1)"
      ],
      "metadata": {
        "id": "1R-m87wNh941",
        "outputId": "8d416448-38fa-4a1c-c1e5-072bf43f3127",
        "colab": {
          "base_uri": "https://localhost:8080/"
        }
      },
      "id": "1R-m87wNh941",
      "execution_count": 10,
      "outputs": [
        {
          "output_type": "stream",
          "name": "stdout",
          "text": [
            "None\n",
            "{'a': 10, 'b': 8, 'd': 6, 'c': 4}\n"
          ]
        }
      ]
    },
    {
      "cell_type": "markdown",
      "id": "62eaf687",
      "metadata": {
        "id": "62eaf687"
      },
      "source": [
        "### 4. Write a Python program to convert key-values list to flat dictionary?"
      ]
    },
    {
      "cell_type": "code",
      "source": [
        "\n",
        "test_dict = {'month' : [1, 2, 3],\n",
        "\t\t\t'name' : ['Jan', 'Feb', 'March']}\n",
        "\n",
        "x=list(test_dict.values())\n",
        "a=x[0]\n",
        "b=x[1]\n",
        "d=dict()\n",
        "for i in range(0,len(a)):\n",
        "\td[a[i]]=b[i]\n",
        "\n",
        "print(\"Flattened dictionary : \" + str(d))\n"
      ],
      "metadata": {
        "id": "YBPO-ZMLlHTE",
        "outputId": "0a43b1a7-be04-4ad8-ad32-7de7c930e77b",
        "colab": {
          "base_uri": "https://localhost:8080/"
        }
      },
      "id": "YBPO-ZMLlHTE",
      "execution_count": 1,
      "outputs": [
        {
          "output_type": "stream",
          "name": "stdout",
          "text": [
            "Flattened dictionary : {1: 'Jan', 2: 'Feb', 3: 'March'}\n"
          ]
        }
      ]
    },
    {
      "cell_type": "markdown",
      "id": "fcc5015f",
      "metadata": {
        "id": "fcc5015f"
      },
      "source": [
        "### 5. Write a Python program to insertion at the beginning in OrderedDict?"
      ]
    },
    {
      "cell_type": "code",
      "source": [
        "\n",
        "# Python code to demonstrate\n",
        "# insertion of items in beginning of ordered dict\n",
        "from collections import OrderedDict\n",
        "\n",
        "# initialising ordered_dict\n",
        "iniordered_dict = OrderedDict([('akshat', '1'), ('nikhil', '2')])\n",
        "\n",
        "# inserting items in starting of dict\n",
        "iniordered_dict.update({'manjeet':'3'})\n",
        "iniordered_dict.move_to_end('manjeet', last = False)\n",
        "\n",
        "# print result\n",
        "print (\"Resultant Dictionary : \"+str(iniordered_dict))\n",
        "\n"
      ],
      "metadata": {
        "id": "WOyryKza6MZh",
        "outputId": "ea902c96-3de0-400c-8818-f49c4d0af980",
        "colab": {
          "base_uri": "https://localhost:8080/"
        }
      },
      "id": "WOyryKza6MZh",
      "execution_count": 2,
      "outputs": [
        {
          "output_type": "stream",
          "name": "stdout",
          "text": [
            "Resultant Dictionary : OrderedDict([('manjeet', '3'), ('akshat', '1'), ('nikhil', '2')])\n"
          ]
        }
      ]
    },
    {
      "cell_type": "markdown",
      "id": "5978c9ab",
      "metadata": {
        "id": "5978c9ab"
      },
      "source": [
        "### 6. Write a Python program to check order of character in string using OrderedDict()?"
      ]
    },
    {
      "cell_type": "markdown",
      "id": "f330da77",
      "metadata": {
        "id": "f330da77"
      },
      "source": [
        "### 7. Write a Python program to sort Python Dictionaries by Key or Value?"
      ]
    },
    {
      "cell_type": "code",
      "source": [
        "# Function calling\n",
        "def dictionairy():\n",
        "\t# Declare hash function\n",
        "\tkey_value = {}\n",
        "\n",
        "# Initializing value\n",
        "\tkey_value[2] = 56\n",
        "\tkey_value[1] = 2\n",
        "\tkey_value[5] = 12\n",
        "\tkey_value[4] = 24\n",
        "\tkey_value[6] = 18\n",
        "\tkey_value[3] = 323\n",
        "\n",
        "\tprint(\"Task 1:-\\n\")\n",
        "\n",
        "\tprint(\"key_value\", key_value)\n",
        "\n",
        "\t# iterkeys() returns an iterator over the\n",
        "\t# dictionary’s keys.\n",
        "\tfor i in sorted(key_value.keys()):\n",
        "\t\tprint(i, end=\" \")\n",
        "\n",
        "\n",
        "def main():\n",
        "\t# function calling\n",
        "\tdictionairy()\n",
        "\n",
        "\n",
        "# Main function calling\n",
        "if __name__ == \"__main__\":\n",
        "\tmain()\n"
      ],
      "metadata": {
        "id": "YFyCXOLR72W3",
        "outputId": "30ded358-40ed-4166-ea24-27d64dbfd906",
        "colab": {
          "base_uri": "https://localhost:8080/"
        }
      },
      "id": "YFyCXOLR72W3",
      "execution_count": 3,
      "outputs": [
        {
          "output_type": "stream",
          "name": "stdout",
          "text": [
            "Task 1:-\n",
            "\n",
            "key_value {2: 56, 1: 2, 5: 12, 4: 24, 6: 18, 3: 323}\n",
            "1 2 3 4 5 6 "
          ]
        }
      ]
    }
  ],
  "metadata": {
    "kernelspec": {
      "display_name": "Python 3 (ipykernel)",
      "language": "python",
      "name": "python3"
    },
    "language_info": {
      "codemirror_mode": {
        "name": "ipython",
        "version": 3
      },
      "file_extension": ".py",
      "mimetype": "text/x-python",
      "name": "python",
      "nbconvert_exporter": "python",
      "pygments_lexer": "ipython3",
      "version": "3.9.12"
    },
    "colab": {
      "provenance": [],
      "include_colab_link": true
    }
  },
  "nbformat": 4,
  "nbformat_minor": 5
}