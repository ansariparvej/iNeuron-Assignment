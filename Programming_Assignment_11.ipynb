{
  "cells": [
    {
      "cell_type": "markdown",
      "metadata": {
        "id": "view-in-github",
        "colab_type": "text"
      },
      "source": [
        "<a href=\"https://colab.research.google.com/github/nabina03/iNeuron-Assignment/blob/main/Programming_Assignment_11.ipynb\" target=\"_parent\"><img src=\"https://colab.research.google.com/assets/colab-badge.svg\" alt=\"Open In Colab\"/></a>"
      ]
    },
    {
      "cell_type": "markdown",
      "id": "53c7e882",
      "metadata": {
        "id": "53c7e882"
      },
      "source": [
        "# Python Basic Programming Assignment 11\n",
        "--------------------"
      ]
    },
    {
      "cell_type": "markdown",
      "id": "051da140",
      "metadata": {
        "id": "051da140"
      },
      "source": [
        "### 1. Write a Python program to find words which are greater than given length k?"
      ]
    },
    {
      "cell_type": "code",
      "source": [
        "A=\"i am Nabina\"\n",
        "k=2\n",
        "\n",
        "for i in (A.split()):\n",
        "  if(len(i)>2):\n",
        "    print(i)\n"
      ],
      "metadata": {
        "id": "SgPDQVXPL9m0",
        "outputId": "0067f851-a4d6-43b9-a261-bc3d72145dc2",
        "colab": {
          "base_uri": "https://localhost:8080/"
        }
      },
      "id": "SgPDQVXPL9m0",
      "execution_count": 19,
      "outputs": [
        {
          "output_type": "stream",
          "name": "stdout",
          "text": [
            "Nabina\n"
          ]
        }
      ]
    },
    {
      "cell_type": "markdown",
      "id": "26719cbd",
      "metadata": {
        "id": "26719cbd"
      },
      "source": [
        "### 2. Write a Python program for removing i-th character from a string?"
      ]
    },
    {
      "cell_type": "code",
      "source": [
        "A=\"I am Nabina\"\n",
        "B=3 #m is in the 3rd index\n",
        "print(A[:3:]+A[4: :])"
      ],
      "metadata": {
        "id": "mRFaTd-DCX6M",
        "outputId": "6e45a836-8ef5-4378-ef28-5fd41d726b74",
        "colab": {
          "base_uri": "https://localhost:8080/"
        }
      },
      "id": "mRFaTd-DCX6M",
      "execution_count": 1,
      "outputs": [
        {
          "output_type": "stream",
          "name": "stdout",
          "text": [
            "I a Nabina\n"
          ]
        }
      ]
    },
    {
      "cell_type": "markdown",
      "id": "51ae6b0f",
      "metadata": {
        "id": "51ae6b0f"
      },
      "source": [
        "### 3. Write a Python program to split and join a string?"
      ]
    },
    {
      "cell_type": "code",
      "source": [
        "s=\"He,y you , wass,up\"\n",
        "A=s.split(\",\")\n",
        "print(A)\n",
        "B=(\"-\".join(A))\n",
        "print(B)"
      ],
      "metadata": {
        "id": "-rzbE_9lC_nw",
        "outputId": "9842247b-d001-4d5b-ea8a-afe3dfa16d3f",
        "colab": {
          "base_uri": "https://localhost:8080/"
        }
      },
      "id": "-rzbE_9lC_nw",
      "execution_count": 3,
      "outputs": [
        {
          "output_type": "stream",
          "name": "stdout",
          "text": [
            "['He', 'y you ', ' wass', 'up']\n",
            "He-y you - wass-up\n"
          ]
        }
      ]
    },
    {
      "cell_type": "markdown",
      "id": "59079fe1",
      "metadata": {
        "id": "59079fe1"
      },
      "source": [
        "### 4. Write a Python to check if a given string is binary string or not?"
      ]
    },
    {
      "cell_type": "code",
      "source": [
        "s=\"010010010\"\n",
        "p=set(s)\n",
        "k={'0','1'}\n",
        "if p==k or p=={'0'} or p=={'1'}:\n",
        "  print(\"yes\")\n",
        "else:\n",
        "  print(\"no\")"
      ],
      "metadata": {
        "id": "E5q46ElEDxh6",
        "outputId": "aeeba961-ea85-48ec-d744-60f60253fd0d",
        "colab": {
          "base_uri": "https://localhost:8080/"
        }
      },
      "id": "E5q46ElEDxh6",
      "execution_count": 5,
      "outputs": [
        {
          "output_type": "stream",
          "name": "stdout",
          "text": [
            "yes\n"
          ]
        }
      ]
    },
    {
      "cell_type": "markdown",
      "id": "4d6cf11a",
      "metadata": {
        "id": "4d6cf11a"
      },
      "source": [
        "### 5. Write a Python program to find uncommon words from two Strings?"
      ]
    },
    {
      "cell_type": "code",
      "source": [
        "A=\"i am Nabina\"\n",
        "B=\"i am pri\"\n",
        "count={}\n",
        "for w in (A.split()):\n",
        "  count[w]=count.get(w, 0) + 1\n",
        "for w in (B.split()):\n",
        "  count[w]=count.get(w,0)+1\n",
        "for w in count:\n",
        "    if(count[w] == 1):\n",
        "        print(w)\n",
        "  "
      ],
      "metadata": {
        "id": "sAbPHNPaExlQ",
        "outputId": "c9c26095-3912-4ebc-bc0d-1aa824034084",
        "colab": {
          "base_uri": "https://localhost:8080/"
        }
      },
      "id": "sAbPHNPaExlQ",
      "execution_count": 15,
      "outputs": [
        {
          "output_type": "stream",
          "name": "stdout",
          "text": [
            "Nabina\n",
            "pri\n"
          ]
        }
      ]
    },
    {
      "cell_type": "markdown",
      "id": "e2b24677",
      "metadata": {
        "id": "e2b24677"
      },
      "source": [
        "### 6. Write a Python to find all duplicate characters in string?"
      ]
    },
    {
      "cell_type": "code",
      "source": [
        "A=\"i am Nabina i you Nabina\"\n",
        "\n",
        "count={}\n",
        "for w in (A.split()):\n",
        "  count[w]=count.get(w, 0) + 1\n",
        "\n",
        "for w in count:\n",
        "    if(count[w]>1):\n",
        "        print(w)"
      ],
      "metadata": {
        "id": "LQemhoQnJCew",
        "outputId": "29322929-426a-4f1e-934a-52320d1a16e6",
        "colab": {
          "base_uri": "https://localhost:8080/"
        }
      },
      "id": "LQemhoQnJCew",
      "execution_count": 17,
      "outputs": [
        {
          "output_type": "stream",
          "name": "stdout",
          "text": [
            "i\n",
            "Nabina\n"
          ]
        }
      ]
    },
    {
      "cell_type": "markdown",
      "id": "1a6af7e4",
      "metadata": {
        "id": "1a6af7e4"
      },
      "source": [
        "### 7. Write a Python Program to check if a string contains any special character?"
      ]
    },
    {
      "cell_type": "code",
      "source": [
        "n=\"Geeks$For$Geeks\"\n",
        "\n",
        "c=0\n",
        "s='[@_!#$%^&*()<>?/\\|}{~:]' \n",
        "for i in range(len(n)):\n",
        "    \n",
        "    if n[i] in s:\n",
        "      c+=1   \n",
        "print(c)\n",
        "     "
      ],
      "metadata": {
        "id": "tv7k2eO1JZ91",
        "outputId": "03a10aab-1b08-4dae-9285-d62c6541de5d",
        "colab": {
          "base_uri": "https://localhost:8080/"
        }
      },
      "id": "tv7k2eO1JZ91",
      "execution_count": 18,
      "outputs": [
        {
          "output_type": "stream",
          "name": "stdout",
          "text": [
            "2\n"
          ]
        }
      ]
    }
  ],
  "metadata": {
    "kernelspec": {
      "display_name": "Python 3 (ipykernel)",
      "language": "python",
      "name": "python3"
    },
    "language_info": {
      "codemirror_mode": {
        "name": "ipython",
        "version": 3
      },
      "file_extension": ".py",
      "mimetype": "text/x-python",
      "name": "python",
      "nbconvert_exporter": "python",
      "pygments_lexer": "ipython3",
      "version": "3.9.12"
    },
    "colab": {
      "provenance": [],
      "include_colab_link": true
    }
  },
  "nbformat": 4,
  "nbformat_minor": 5
}