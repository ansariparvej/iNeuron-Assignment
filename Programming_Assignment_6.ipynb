{
  "cells": [
    {
      "cell_type": "markdown",
      "metadata": {
        "id": "view-in-github",
        "colab_type": "text"
      },
      "source": [
        "<a href=\"https://colab.research.google.com/github/nabina03/iNeuron-Assignment/blob/main/Programming_Assignment_6.ipynb\" target=\"_parent\"><img src=\"https://colab.research.google.com/assets/colab-badge.svg\" alt=\"Open In Colab\"/></a>"
      ]
    },
    {
      "cell_type": "markdown",
      "id": "84a41a9f",
      "metadata": {
        "id": "84a41a9f"
      },
      "source": [
        "# Programming Basic Assignment 6"
      ]
    },
    {
      "cell_type": "markdown",
      "id": "a4b40558",
      "metadata": {
        "id": "a4b40558"
      },
      "source": [
        "### 1. Write a Python Program to Display Fibonacci Sequence Using Recursion?"
      ]
    },
    {
      "cell_type": "code",
      "source": [
        "\n",
        "\n",
        "def recur_fibo(n):\n",
        "   if n <= 1:\n",
        "       return n\n",
        "   else:\n",
        "       return(recur_fibo(n-1) + recur_fibo(n-2))\n",
        "\n",
        "nterms = 10\n",
        "\n",
        "if nterms <= 0:\n",
        "   print(\"Plese enter a positive integer\")\n",
        "else:\n",
        "   print(\"Fibonacci sequence:\")\n",
        "   for i in range(nterms):\n",
        "       print(recur_fibo(i))"
      ],
      "metadata": {
        "id": "oqMBfdp_yCWL",
        "outputId": "e5fdd65f-0d7e-4741-a51f-094feb6b4378",
        "colab": {
          "base_uri": "https://localhost:8080/"
        }
      },
      "id": "oqMBfdp_yCWL",
      "execution_count": 1,
      "outputs": [
        {
          "output_type": "stream",
          "name": "stdout",
          "text": [
            "Fibonacci sequence:\n",
            "0\n",
            "1\n",
            "1\n",
            "2\n",
            "3\n",
            "5\n",
            "8\n",
            "13\n",
            "21\n",
            "34\n"
          ]
        }
      ]
    },
    {
      "cell_type": "markdown",
      "id": "d7a57f60",
      "metadata": {
        "id": "d7a57f60"
      },
      "source": [
        "### 2. Write a Python Program to Find Factorial of Number Using Recursion?"
      ]
    },
    {
      "cell_type": "code",
      "source": [
        "\n",
        "\n",
        "def recur_factorial(n):\n",
        "   if n == 1:\n",
        "       return n\n",
        "   else:\n",
        "       return n*recur_factorial(n-1)\n",
        "\n",
        "num = 7\n",
        "\n",
        "\n",
        "if num < 0:\n",
        "   print(\"Sorry, factorial does not exist for negative numbers\")\n",
        "elif num == 0:\n",
        "   print(\"The factorial of 0 is 1\")\n",
        "else:\n",
        "   print(\"The factorial of\", num, \"is\", recur_factorial(num))\n"
      ],
      "metadata": {
        "id": "q0ARljIO2D5u",
        "outputId": "849d9807-6650-4391-fd40-d228ca95d132",
        "colab": {
          "base_uri": "https://localhost:8080/"
        }
      },
      "id": "q0ARljIO2D5u",
      "execution_count": 2,
      "outputs": [
        {
          "output_type": "stream",
          "name": "stdout",
          "text": [
            "The factorial of 7 is 5040\n"
          ]
        }
      ]
    },
    {
      "cell_type": "markdown",
      "id": "0357b86f",
      "metadata": {
        "id": "0357b86f"
      },
      "source": [
        "### 3. Write a Python Program to calculate your Body Mass Index?"
      ]
    },
    {
      "cell_type": "code",
      "source": [
        "\n",
        "def BMI(height, weight):\n",
        "\tbmi = weight/(height**2)\n",
        "\treturn bmi\n",
        "\n",
        "# Driver code\n",
        "height = 1.79832\n",
        "weight = 70\n",
        "\n",
        "\n",
        "bmi = BMI(height, weight)\n",
        "print(\"The BMI is\", format(bmi), \"so \", end='')\n",
        "\n",
        "if (bmi < 18.5):\n",
        "\tprint(\"underweight\")\n",
        "\n",
        "elif ( bmi >= 18.5 and bmi < 24.9):\n",
        "\tprint(\"Healthy\")\n",
        "\n",
        "elif ( bmi >= 24.9 and bmi < 30):\n",
        "\tprint(\"overweight\")\n",
        "\n",
        "elif ( bmi >=30):\n",
        "\tprint(\"Suffering from Obesity\")\n"
      ],
      "metadata": {
        "id": "cak4N5eg2QeL",
        "outputId": "7bf838c2-a1a7-4b04-c75f-5e8d62e6f594",
        "colab": {
          "base_uri": "https://localhost:8080/"
        }
      },
      "id": "cak4N5eg2QeL",
      "execution_count": 3,
      "outputs": [
        {
          "output_type": "stream",
          "name": "stdout",
          "text": [
            "The BMI is 21.64532402096181 so Healthy\n"
          ]
        }
      ]
    },
    {
      "cell_type": "markdown",
      "id": "96d344a4",
      "metadata": {
        "id": "96d344a4"
      },
      "source": [
        "### 4. Write a Python Program to calculate the natural logarithm of any number?"
      ]
    },
    {
      "cell_type": "code",
      "source": [
        "\n",
        "\n",
        "import math\n",
        "\n",
        "\n",
        "print (\"Natural logarithm of 14 is : \", end=\"\")\n",
        "print (math.log(14))\n",
        "\n",
        "\n",
        "print (\"Logarithm base 5 of 14 is : \", end=\"\")\n",
        "print (math.log(14,5))\n"
      ],
      "metadata": {
        "id": "VF8uVBHH2oj3",
        "outputId": "c7d82703-42c0-44db-c946-3ac42569ecd6",
        "colab": {
          "base_uri": "https://localhost:8080/"
        }
      },
      "id": "VF8uVBHH2oj3",
      "execution_count": 4,
      "outputs": [
        {
          "output_type": "stream",
          "name": "stdout",
          "text": [
            "Natural logarithm of 14 is : 2.6390573296152584\n",
            "Logarithm base 5 of 14 is : 1.6397385131955606\n"
          ]
        }
      ]
    },
    {
      "cell_type": "markdown",
      "id": "11c0d92c",
      "metadata": {
        "id": "11c0d92c"
      },
      "source": [
        "\n",
        "### 5. Write a Python Program for cube sum of first n natural numbers?\n"
      ]
    },
    {
      "cell_type": "code",
      "source": [
        "\n",
        "def sumOfSeries(n):\n",
        "\tsum = 0\n",
        "\tfor i in range(1, n+1):\n",
        "\t\tsum +=pow(i,3)\n",
        "\t\t\n",
        "\treturn sum\n",
        "\n",
        "\n",
        "\n",
        "n = 5\n",
        "print(sumOfSeries(n))\n",
        "\n"
      ],
      "metadata": {
        "id": "e3YfoUS_256M",
        "outputId": "2e97eba9-87cb-4654-8c3a-eaf89d908e02",
        "colab": {
          "base_uri": "https://localhost:8080/"
        }
      },
      "id": "e3YfoUS_256M",
      "execution_count": 5,
      "outputs": [
        {
          "output_type": "stream",
          "name": "stdout",
          "text": [
            "225\n"
          ]
        }
      ]
    }
  ],
  "metadata": {
    "kernelspec": {
      "display_name": "Python 3 (ipykernel)",
      "language": "python",
      "name": "python3"
    },
    "language_info": {
      "codemirror_mode": {
        "name": "ipython",
        "version": 3
      },
      "file_extension": ".py",
      "mimetype": "text/x-python",
      "name": "python",
      "nbconvert_exporter": "python",
      "pygments_lexer": "ipython3",
      "version": "3.9.12"
    },
    "colab": {
      "provenance": [],
      "include_colab_link": true
    }
  },
  "nbformat": 4,
  "nbformat_minor": 5
}