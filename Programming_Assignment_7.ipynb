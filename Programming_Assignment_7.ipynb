{
  "cells": [
    {
      "cell_type": "markdown",
      "metadata": {
        "id": "view-in-github",
        "colab_type": "text"
      },
      "source": [
        "<a href=\"https://colab.research.google.com/github/nabina03/iNeuron-Assignment/blob/main/Programming_Assignment_7.ipynb\" target=\"_parent\"><img src=\"https://colab.research.google.com/assets/colab-badge.svg\" alt=\"Open In Colab\"/></a>"
      ]
    },
    {
      "cell_type": "markdown",
      "id": "35297a20",
      "metadata": {
        "id": "35297a20"
      },
      "source": [
        "## Programming Basic Assignment 7"
      ]
    },
    {
      "cell_type": "markdown",
      "id": "27349114",
      "metadata": {
        "id": "27349114"
      },
      "source": [
        "### 1. Write a Python Program to find sum of array?"
      ]
    },
    {
      "cell_type": "code",
      "source": [
        "arr=list(map(int,input().split(\" \")))\n",
        "c=0\n",
        "for i in arr:\n",
        "    c=c+i\n",
        "print(c)"
      ],
      "metadata": {
        "colab": {
          "base_uri": "https://localhost:8080/"
        },
        "id": "rQYVPeIeTpX5",
        "outputId": "8e08ab66-f513-40dd-a423-3c2338f07033"
      },
      "id": "rQYVPeIeTpX5",
      "execution_count": 3,
      "outputs": [
        {
          "output_type": "stream",
          "name": "stdout",
          "text": [
            "1 2 3 4 5\n",
            "15\n"
          ]
        }
      ]
    },
    {
      "cell_type": "markdown",
      "id": "171a980d",
      "metadata": {
        "id": "171a980d"
      },
      "source": [
        "### 2. Write a Python Program to find largest element in an array?\n"
      ]
    },
    {
      "cell_type": "code",
      "source": [
        "arr=list(map(int,input().split(\" \")))\n",
        "lar=0\n",
        "for i in arr:\n",
        "  if i>lar:\n",
        "    lar=i\n",
        "print(lar)"
      ],
      "metadata": {
        "colab": {
          "base_uri": "https://localhost:8080/"
        },
        "id": "z3WWNwYjhKHV",
        "outputId": "fd03ef8f-7398-44ba-a903-2ef1b3427f2c"
      },
      "id": "z3WWNwYjhKHV",
      "execution_count": 4,
      "outputs": [
        {
          "output_type": "stream",
          "name": "stdout",
          "text": [
            "1 2 3 4 5 6\n",
            "6\n"
          ]
        }
      ]
    },
    {
      "cell_type": "markdown",
      "id": "21613246",
      "metadata": {
        "id": "21613246"
      },
      "source": [
        "### 3. Write a Python Program for array rotation?"
      ]
    },
    {
      "cell_type": "code",
      "source": [
        "arr=list(map(int,input().split(\" \")))\n",
        "c=arr[::-1]\n",
        "n=len(c)\n",
        "p=c[0:n-1:1]\n",
        "h=p[::-1]\n",
        "k=c[n:-2:-1]\n",
        "\n",
        "print(h+k)"
      ],
      "metadata": {
        "id": "gXfh74hwm4CS",
        "outputId": "a76c717b-b9e4-4755-e0ed-2949d873c2aa",
        "colab": {
          "base_uri": "https://localhost:8080/"
        }
      },
      "id": "gXfh74hwm4CS",
      "execution_count": 5,
      "outputs": [
        {
          "output_type": "stream",
          "name": "stdout",
          "text": [
            "1 2 3 4 5 6\n",
            "[2, 3, 4, 5, 6, 1]\n"
          ]
        }
      ]
    },
    {
      "cell_type": "markdown",
      "id": "3e52d939",
      "metadata": {
        "id": "3e52d939"
      },
      "source": [
        "### 4. Write a Python Program to Split the array and add the first part to the end?"
      ]
    },
    {
      "cell_type": "code",
      "source": [
        "arr=list(map(int,input().split(\" \")))\n",
        "\n",
        "n=len(arr)\n",
        "p=arr[0:n-3:1]\n",
        "q=arr[n-3:n:1]\n",
        "print(q+p)\n"
      ],
      "metadata": {
        "id": "h6vPHpDsqgUa",
        "outputId": "21874c2c-11d6-49cc-aa5a-0b3bce402723",
        "colab": {
          "base_uri": "https://localhost:8080/"
        }
      },
      "id": "h6vPHpDsqgUa",
      "execution_count": 7,
      "outputs": [
        {
          "output_type": "stream",
          "name": "stdout",
          "text": [
            "1 2 3 4 5 6\n",
            "[4, 5, 6, 1, 2, 3]\n"
          ]
        }
      ]
    },
    {
      "cell_type": "markdown",
      "id": "aa375779",
      "metadata": {
        "id": "aa375779"
      },
      "source": [
        "### 5. Write a Python Program to check if given array is Monotonic?"
      ]
    },
    {
      "cell_type": "code",
      "source": [
        "# Check if given array is Monotonic\n",
        "def isMonotonic(A):\n",
        "\tx, y = [], []\n",
        "\tx.extend(A)\n",
        "\ty.extend(A)\n",
        "\tx.sort()\n",
        "\ty.sort(reverse=True)\n",
        "\tif(x == A or y == A):\n",
        "\t\treturn True\n",
        "\treturn False\n",
        "\n",
        "\n",
        "# Driver program\n",
        "A = [6, 5, 4, 4]\n",
        "\n",
        "# Print required result\n",
        "print(isMonotonic(A))\n"
      ],
      "metadata": {
        "id": "iDr4y_oE7z6x",
        "outputId": "a9a6bb3a-c395-4e36-fd52-e87a4da41b97",
        "colab": {
          "base_uri": "https://localhost:8080/"
        }
      },
      "id": "iDr4y_oE7z6x",
      "execution_count": 8,
      "outputs": [
        {
          "output_type": "stream",
          "name": "stdout",
          "text": [
            "True\n"
          ]
        }
      ]
    }
  ],
  "metadata": {
    "kernelspec": {
      "display_name": "Python 3 (ipykernel)",
      "language": "python",
      "name": "python3"
    },
    "language_info": {
      "codemirror_mode": {
        "name": "ipython",
        "version": 3
      },
      "file_extension": ".py",
      "mimetype": "text/x-python",
      "name": "python",
      "nbconvert_exporter": "python",
      "pygments_lexer": "ipython3",
      "version": "3.9.12"
    },
    "colab": {
      "provenance": [],
      "include_colab_link": true
    }
  },
  "nbformat": 4,
  "nbformat_minor": 5
}