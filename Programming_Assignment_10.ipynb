{
  "cells": [
    {
      "cell_type": "markdown",
      "metadata": {
        "id": "view-in-github",
        "colab_type": "text"
      },
      "source": [
        "<a href=\"https://colab.research.google.com/github/nabina03/iNeuron-Assignment/blob/main/Programming_Assignment_10.ipynb\" target=\"_parent\"><img src=\"https://colab.research.google.com/assets/colab-badge.svg\" alt=\"Open In Colab\"/></a>"
      ]
    },
    {
      "cell_type": "markdown",
      "id": "3dcb940f",
      "metadata": {
        "id": "3dcb940f"
      },
      "source": [
        "## Python Basic Programming Assignment 10"
      ]
    },
    {
      "cell_type": "markdown",
      "id": "6720790a",
      "metadata": {
        "id": "6720790a"
      },
      "source": [
        "### 1. Write a Python program to find sum of elements in list?"
      ]
    },
    {
      "cell_type": "code",
      "source": [
        "arr=list(map(int,input().split(\" \")))\n",
        "c=0\n",
        "for i in arr:\n",
        "    c=c+i\n",
        "print(c)"
      ],
      "metadata": {
        "id": "vt9HVxnIJHgL",
        "outputId": "3d5c497e-276e-40d3-c3af-ed5787437966",
        "colab": {
          "base_uri": "https://localhost:8080/"
        }
      },
      "id": "vt9HVxnIJHgL",
      "execution_count": 1,
      "outputs": [
        {
          "output_type": "stream",
          "name": "stdout",
          "text": [
            "1 2 3 4 5\n",
            "15\n"
          ]
        }
      ]
    },
    {
      "cell_type": "markdown",
      "id": "fe1137c3",
      "metadata": {
        "id": "fe1137c3"
      },
      "source": [
        "### 2. Write a Python program to  Multiply all numbers in the list?"
      ]
    },
    {
      "cell_type": "code",
      "source": [
        "arr=list(map(int,input().split(\" \")))\n",
        "c=1\n",
        "for i in arr:\n",
        "    c=c*i\n",
        "print(c)"
      ],
      "metadata": {
        "id": "32NHrYgGJUgM",
        "outputId": "89d6375c-0ecf-474b-b4f5-444c49048a80",
        "colab": {
          "base_uri": "https://localhost:8080/"
        }
      },
      "id": "32NHrYgGJUgM",
      "execution_count": 3,
      "outputs": [
        {
          "output_type": "stream",
          "name": "stdout",
          "text": [
            "2 4 5\n",
            "40\n"
          ]
        }
      ]
    },
    {
      "cell_type": "markdown",
      "id": "078681db",
      "metadata": {
        "id": "078681db"
      },
      "source": [
        "### 3. Write a Python program to find smallest number in a list?"
      ]
    },
    {
      "cell_type": "code",
      "source": [
        "arr=list(map(int,input().split(\" \")))\n",
        "sm=arr[0]\n",
        "for i in arr:\n",
        "  if i<sm:\n",
        "    sm=i\n",
        "print(sm)"
      ],
      "metadata": {
        "id": "BdQp096OJi9S",
        "outputId": "cac7a9a2-d7a8-4e10-b298-46789f4d31e2",
        "colab": {
          "base_uri": "https://localhost:8080/"
        }
      },
      "id": "BdQp096OJi9S",
      "execution_count": 5,
      "outputs": [
        {
          "output_type": "stream",
          "name": "stdout",
          "text": [
            "2 3 4 5 1 6\n",
            "1\n"
          ]
        }
      ]
    },
    {
      "cell_type": "markdown",
      "id": "12b04397",
      "metadata": {
        "id": "12b04397"
      },
      "source": [
        "### 4. Write a Python program to find largest number in a list?"
      ]
    },
    {
      "cell_type": "code",
      "source": [
        "arr=list(map(int,input().split(\" \")))\n",
        "lar=0\n",
        "for i in arr:\n",
        "  if i>lar:\n",
        "    lar=i\n",
        "print(lar)"
      ],
      "metadata": {
        "id": "V5j9JQmPKc5f",
        "outputId": "e9a1a748-a031-43e2-985d-3a320e787eca",
        "colab": {
          "base_uri": "https://localhost:8080/"
        }
      },
      "id": "V5j9JQmPKc5f",
      "execution_count": 6,
      "outputs": [
        {
          "output_type": "stream",
          "name": "stdout",
          "text": [
            "1 2 3 4 5 6\n",
            "6\n"
          ]
        }
      ]
    },
    {
      "cell_type": "markdown",
      "id": "86442b51",
      "metadata": {
        "id": "86442b51"
      },
      "source": [
        "### 5. Write a Python program to find second largest number in a list?"
      ]
    },
    {
      "cell_type": "code",
      "source": [
        "A=list(map(int,input().split(\" \")))\n",
        "A1=list(set(A))\n",
        "A1.sort()\n",
        "print (A1[-2])"
      ],
      "metadata": {
        "id": "2ojYNln4KmGc",
        "outputId": "ef6e6c75-9437-495b-c879-3fa1ca17e01d",
        "colab": {
          "base_uri": "https://localhost:8080/"
        }
      },
      "id": "2ojYNln4KmGc",
      "execution_count": 7,
      "outputs": [
        {
          "output_type": "stream",
          "name": "stdout",
          "text": [
            "5 6 7 3 4 8\n",
            "7\n"
          ]
        }
      ]
    },
    {
      "cell_type": "markdown",
      "id": "10964d7d",
      "metadata": {
        "id": "10964d7d"
      },
      "source": [
        "### 6. Write a Python program to find N largest elements from a list?"
      ]
    },
    {
      "cell_type": "code",
      "source": [
        "A1=[1,4,6,7,9,5]\n",
        "B=3\n",
        "A1.sort()\n",
        "print (A1[-1:-4:-1])\n",
        "\n"
      ],
      "metadata": {
        "id": "o_8K1FtfMAK6",
        "outputId": "4085abb1-cf67-4f13-8cd3-562a206a846b",
        "colab": {
          "base_uri": "https://localhost:8080/"
        }
      },
      "id": "o_8K1FtfMAK6",
      "execution_count": 21,
      "outputs": [
        {
          "output_type": "stream",
          "name": "stdout",
          "text": [
            "[9, 7, 6]\n"
          ]
        }
      ]
    },
    {
      "cell_type": "markdown",
      "id": "2f1a1e98",
      "metadata": {
        "id": "2f1a1e98"
      },
      "source": [
        "### 7. Write a Python program to print even numbers in a list?"
      ]
    },
    {
      "cell_type": "code",
      "source": [
        "A=[1,2,3,4,5,6,7,8]\n",
        "C=[]\n",
        "for i in A:\n",
        "  if(i%2==0):\n",
        "    C.append(i)\n",
        "print(C)\n"
      ],
      "metadata": {
        "id": "1Zw5sxpqmlZX",
        "outputId": "86f57633-c3ab-4428-bc08-cbc8c6995c79",
        "colab": {
          "base_uri": "https://localhost:8080/"
        }
      },
      "id": "1Zw5sxpqmlZX",
      "execution_count": 20,
      "outputs": [
        {
          "output_type": "stream",
          "name": "stdout",
          "text": [
            "[2, 4, 6, 8]\n"
          ]
        }
      ]
    },
    {
      "cell_type": "markdown",
      "id": "989bb324",
      "metadata": {
        "id": "989bb324"
      },
      "source": [
        "### 8. Write a Python program to print odd numbers in a List?"
      ]
    },
    {
      "cell_type": "code",
      "source": [
        "A=[1,2,3,4,5,6,7,8]\n",
        "C=[]\n",
        "for i in A:\n",
        "  if(i%2!=0):\n",
        "    C.append(i)\n",
        "print(C)\n"
      ],
      "metadata": {
        "id": "2qQMbDcEl8gA",
        "outputId": "8cdee011-2e21-4f88-8cdf-f215aa0b2d4b",
        "colab": {
          "base_uri": "https://localhost:8080/"
        }
      },
      "id": "2qQMbDcEl8gA",
      "execution_count": 19,
      "outputs": [
        {
          "output_type": "stream",
          "name": "stdout",
          "text": [
            "[1, 3, 5, 7]\n"
          ]
        }
      ]
    },
    {
      "cell_type": "markdown",
      "id": "185b7b13",
      "metadata": {
        "id": "185b7b13"
      },
      "source": [
        "### 9. Write a Python program to Remove empty List from List?"
      ]
    },
    {
      "cell_type": "code",
      "source": [
        "A=[4,5,6,7,\"Nabina\",[],8]\n",
        "B=[i for i in A if i!=[]]\n",
        "print(B)"
      ],
      "metadata": {
        "id": "YAveHENsjJP3",
        "outputId": "c29f639b-5f92-4a3b-ab9f-e86c1eb50ad4",
        "colab": {
          "base_uri": "https://localhost:8080/"
        }
      },
      "id": "YAveHENsjJP3",
      "execution_count": 18,
      "outputs": [
        {
          "output_type": "stream",
          "name": "stdout",
          "text": [
            "[4, 5, 6, 7, 'Nabina', 8]\n"
          ]
        }
      ]
    },
    {
      "cell_type": "markdown",
      "id": "278cfacc",
      "metadata": {
        "id": "278cfacc"
      },
      "source": [
        "### 10. Write a Python program to Cloning or Copying a list?"
      ]
    },
    {
      "cell_type": "code",
      "source": [
        "A=[1,2,3,4,5]\n",
        "B=A[: :]\n",
        "print(B)"
      ],
      "metadata": {
        "id": "RtRjg36wiQMb",
        "outputId": "ce616993-0ee1-4952-cc9d-b2f72bd94308",
        "colab": {
          "base_uri": "https://localhost:8080/"
        }
      },
      "id": "RtRjg36wiQMb",
      "execution_count": 11,
      "outputs": [
        {
          "output_type": "stream",
          "name": "stdout",
          "text": [
            "[1, 2, 3, 4, 5]\n"
          ]
        }
      ]
    },
    {
      "cell_type": "markdown",
      "id": "b359bedf",
      "metadata": {
        "id": "b359bedf"
      },
      "source": [
        "### 11. Write a Python program to Count occurrences of an element in a list?"
      ]
    },
    {
      "cell_type": "code",
      "source": [
        "A=list(map(int,input().split(\" \")))\n",
        "b=6\n",
        "c=0\n",
        "for i in A:\n",
        "  if(i==b):\n",
        "    c=c+1\n",
        "print(c)"
      ],
      "metadata": {
        "id": "SjXAM0l0hNe3",
        "outputId": "dfeefc2f-edf2-4034-8ac1-5b97d052d2e8",
        "colab": {
          "base_uri": "https://localhost:8080/"
        }
      },
      "id": "SjXAM0l0hNe3",
      "execution_count": 10,
      "outputs": [
        {
          "output_type": "stream",
          "name": "stdout",
          "text": [
            "6 6 2 3\n",
            "2\n"
          ]
        }
      ]
    },
    {
      "cell_type": "code",
      "source": [],
      "metadata": {
        "id": "C-FhYcPihNbv"
      },
      "id": "C-FhYcPihNbv",
      "execution_count": null,
      "outputs": []
    }
  ],
  "metadata": {
    "kernelspec": {
      "display_name": "Python 3 (ipykernel)",
      "language": "python",
      "name": "python3"
    },
    "language_info": {
      "codemirror_mode": {
        "name": "ipython",
        "version": 3
      },
      "file_extension": ".py",
      "mimetype": "text/x-python",
      "name": "python",
      "nbconvert_exporter": "python",
      "pygments_lexer": "ipython3",
      "version": "3.9.12"
    },
    "colab": {
      "provenance": [],
      "include_colab_link": true
    }
  },
  "nbformat": 4,
  "nbformat_minor": 5
}